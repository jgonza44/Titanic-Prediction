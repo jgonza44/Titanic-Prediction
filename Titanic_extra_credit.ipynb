{
  "nbformat": 4,
  "nbformat_minor": 0,
  "metadata": {
    "colab": {
      "name": "Titanic_extra_credit.ipynb",
      "provenance": [],
      "authorship_tag": "ABX9TyMk9JRKj0fgY1u4/DAbvFGT",
      "include_colab_link": true
    },
    "kernelspec": {
      "name": "python3",
      "display_name": "Python 3"
    }
  },
  "cells": [
    {
      "cell_type": "markdown",
      "metadata": {
        "id": "view-in-github",
        "colab_type": "text"
      },
      "source": [
        "<a href=\"https://colab.research.google.com/github/jgonza44/Titanic-Prediction/blob/master/Titanic_extra_credit.ipynb\" target=\"_parent\"><img src=\"https://colab.research.google.com/assets/colab-badge.svg\" alt=\"Open In Colab\"/></a>"
      ]
    },
    {
      "cell_type": "markdown",
      "metadata": {
        "id": "1MrGVyl_bBOZ",
        "colab_type": "text"
      },
      "source": [
        "This model is an improvment on the tutorial by Alexis Cook found [here](https://www.kaggle.com/alexisbcook/titanic-tutorial)"
      ]
    },
    {
      "cell_type": "code",
      "metadata": {
        "_uuid": "8f2839f25d086af736a60e9eeb907d3b93b6e0e5",
        "_cell_guid": "b1076dfc-b9ad-4769-8c92-a6c4dae69d19",
        "trusted": true,
        "id": "DHgN8yfWp4iE",
        "colab_type": "code",
        "colab": {
          "base_uri": "https://localhost:8080/",
          "height": 50
        },
        "outputId": "13563f39-8c9f-45a2-afbf-366156292588"
      },
      "source": [
        "# Initial Python environment setup...\n",
        "import numpy as np \n",
        "import pandas as pd\n",
        "import pandas.util.testing as tm\n",
        "import seaborn as sns \n",
        "from google.colab import drive\n",
        "drive.mount('/content/drive')\n",
        "%matplotlib inline \n",
        "import matplotlib.pyplot as plt\n",
        "import os  \n",
        "print(os.listdir('/content/drive/My Drive/data')) \n"
      ],
      "execution_count": null,
      "outputs": [
        {
          "output_type": "stream",
          "text": [
            "Drive already mounted at /content/drive; to attempt to forcibly remount, call drive.mount(\"/content/drive\", force_remount=True).\n",
            "['test.csv', 'train.csv', 'submit.csv', 'weather.csv', 'gender_submission.csv', 'train_titanic.csv', 'test_titanic.csv', 'submission.csv', 'titanic_submission.csv']\n"
          ],
          "name": "stdout"
        }
      ]
    },
    {
      "cell_type": "code",
      "metadata": {
        "id": "-3DXOvUfBV7R",
        "colab_type": "code",
        "colab": {
          "base_uri": "https://localhost:8080/",
          "height": 195
        },
        "outputId": "b0d3e572-01f2-4a74-c7ec-4cef5acb5a2c"
      },
      "source": [
        "train_data = pd.read_csv(\"/content/drive/My Drive/data/train_titanic.csv\")\n",
        "train_data.head()"
      ],
      "execution_count": null,
      "outputs": [
        {
          "output_type": "execute_result",
          "data": {
            "text/html": [
              "<div>\n",
              "<style scoped>\n",
              "    .dataframe tbody tr th:only-of-type {\n",
              "        vertical-align: middle;\n",
              "    }\n",
              "\n",
              "    .dataframe tbody tr th {\n",
              "        vertical-align: top;\n",
              "    }\n",
              "\n",
              "    .dataframe thead th {\n",
              "        text-align: right;\n",
              "    }\n",
              "</style>\n",
              "<table border=\"1\" class=\"dataframe\">\n",
              "  <thead>\n",
              "    <tr style=\"text-align: right;\">\n",
              "      <th></th>\n",
              "      <th>PassengerId</th>\n",
              "      <th>Survived</th>\n",
              "      <th>Pclass</th>\n",
              "      <th>Name</th>\n",
              "      <th>Sex</th>\n",
              "      <th>Age</th>\n",
              "      <th>SibSp</th>\n",
              "      <th>Parch</th>\n",
              "      <th>Ticket</th>\n",
              "      <th>Fare</th>\n",
              "      <th>Cabin</th>\n",
              "      <th>Embarked</th>\n",
              "    </tr>\n",
              "  </thead>\n",
              "  <tbody>\n",
              "    <tr>\n",
              "      <th>0</th>\n",
              "      <td>1</td>\n",
              "      <td>0</td>\n",
              "      <td>3</td>\n",
              "      <td>Braund, Mr. Owen Harris</td>\n",
              "      <td>male</td>\n",
              "      <td>22.0</td>\n",
              "      <td>1</td>\n",
              "      <td>0</td>\n",
              "      <td>A/5 21171</td>\n",
              "      <td>7.2500</td>\n",
              "      <td>NaN</td>\n",
              "      <td>S</td>\n",
              "    </tr>\n",
              "    <tr>\n",
              "      <th>1</th>\n",
              "      <td>2</td>\n",
              "      <td>1</td>\n",
              "      <td>1</td>\n",
              "      <td>Cumings, Mrs. John Bradley (Florence Briggs Th...</td>\n",
              "      <td>female</td>\n",
              "      <td>38.0</td>\n",
              "      <td>1</td>\n",
              "      <td>0</td>\n",
              "      <td>PC 17599</td>\n",
              "      <td>71.2833</td>\n",
              "      <td>C85</td>\n",
              "      <td>C</td>\n",
              "    </tr>\n",
              "    <tr>\n",
              "      <th>2</th>\n",
              "      <td>3</td>\n",
              "      <td>1</td>\n",
              "      <td>3</td>\n",
              "      <td>Heikkinen, Miss. Laina</td>\n",
              "      <td>female</td>\n",
              "      <td>26.0</td>\n",
              "      <td>0</td>\n",
              "      <td>0</td>\n",
              "      <td>STON/O2. 3101282</td>\n",
              "      <td>7.9250</td>\n",
              "      <td>NaN</td>\n",
              "      <td>S</td>\n",
              "    </tr>\n",
              "    <tr>\n",
              "      <th>3</th>\n",
              "      <td>4</td>\n",
              "      <td>1</td>\n",
              "      <td>1</td>\n",
              "      <td>Futrelle, Mrs. Jacques Heath (Lily May Peel)</td>\n",
              "      <td>female</td>\n",
              "      <td>35.0</td>\n",
              "      <td>1</td>\n",
              "      <td>0</td>\n",
              "      <td>113803</td>\n",
              "      <td>53.1000</td>\n",
              "      <td>C123</td>\n",
              "      <td>S</td>\n",
              "    </tr>\n",
              "    <tr>\n",
              "      <th>4</th>\n",
              "      <td>5</td>\n",
              "      <td>0</td>\n",
              "      <td>3</td>\n",
              "      <td>Allen, Mr. William Henry</td>\n",
              "      <td>male</td>\n",
              "      <td>35.0</td>\n",
              "      <td>0</td>\n",
              "      <td>0</td>\n",
              "      <td>373450</td>\n",
              "      <td>8.0500</td>\n",
              "      <td>NaN</td>\n",
              "      <td>S</td>\n",
              "    </tr>\n",
              "  </tbody>\n",
              "</table>\n",
              "</div>"
            ],
            "text/plain": [
              "   PassengerId  Survived  Pclass  ...     Fare Cabin  Embarked\n",
              "0            1         0       3  ...   7.2500   NaN         S\n",
              "1            2         1       1  ...  71.2833   C85         C\n",
              "2            3         1       3  ...   7.9250   NaN         S\n",
              "3            4         1       1  ...  53.1000  C123         S\n",
              "4            5         0       3  ...   8.0500   NaN         S\n",
              "\n",
              "[5 rows x 12 columns]"
            ]
          },
          "metadata": {
            "tags": []
          },
          "execution_count": 489
        }
      ]
    },
    {
      "cell_type": "code",
      "metadata": {
        "id": "BpEw122PwN8h",
        "colab_type": "code",
        "colab": {
          "base_uri": "https://localhost:8080/",
          "height": 34
        },
        "outputId": "e753bd83-d931-4c8b-be23-47ac77fd538b"
      },
      "source": [
        "print('Too much Cabin information is missing (location on ship) for it to be a useful feature with', train_data['Cabin'].isnull().sum(), 'null cells') \n"
      ],
      "execution_count": null,
      "outputs": [
        {
          "output_type": "stream",
          "text": [
            "Too much Cabin information is missing (location on ship) for it to be a useful feature with 687 null cells\n"
          ],
          "name": "stdout"
        }
      ]
    },
    {
      "cell_type": "markdown",
      "metadata": {
        "id": "Y6KZdT_peqoq",
        "colab_type": "text"
      },
      "source": [
        "Check for null Fare values\n"
      ]
    },
    {
      "cell_type": "code",
      "metadata": {
        "id": "KSh0QN6wUVPG",
        "colab_type": "code",
        "colab": {
          "base_uri": "https://localhost:8080/",
          "height": 34
        },
        "outputId": "1976a2d6-c51a-4648-909f-a07c15b163da"
      },
      "source": [
        "print('There are', train_data['Fare'].isnull().sum(), 'null fare cells' )"
      ],
      "execution_count": null,
      "outputs": [
        {
          "output_type": "stream",
          "text": [
            "There are 0 null fare cells\n"
          ],
          "name": "stdout"
        }
      ]
    },
    {
      "cell_type": "markdown",
      "metadata": {
        "id": "koWBp9W8o9Ja",
        "colab_type": "text"
      },
      "source": [
        "Check for null age values"
      ]
    },
    {
      "cell_type": "code",
      "metadata": {
        "id": "Ab916mZrVKT2",
        "colab_type": "code",
        "colab": {
          "base_uri": "https://localhost:8080/",
          "height": 34
        },
        "outputId": "750d8692-6c37-412b-edf2-a601726420e3"
      },
      "source": [
        "train_data['Age'].isnull().sum()"
      ],
      "execution_count": null,
      "outputs": [
        {
          "output_type": "execute_result",
          "data": {
            "text/plain": [
              "177"
            ]
          },
          "metadata": {
            "tags": []
          },
          "execution_count": 492
        }
      ]
    },
    {
      "cell_type": "markdown",
      "metadata": {
        "id": "E7BxKeXfoHZd",
        "colab_type": "text"
      },
      "source": [
        "Removing rows with null age values gets rid of way too many rows so i'll comment this code out\n"
      ]
    },
    {
      "cell_type": "code",
      "metadata": {
        "id": "e6_w2njYoEy7",
        "colab_type": "code",
        "colab": {}
      },
      "source": [
        "# train_data = train_data.dropna(how = 'any', axis = 'rows') "
      ],
      "execution_count": null,
      "outputs": []
    },
    {
      "cell_type": "markdown",
      "metadata": {
        "id": "-gWm1eAFvuvd",
        "colab_type": "text"
      },
      "source": [
        "Instead, I'll change null age values for the average age in each class group."
      ]
    },
    {
      "cell_type": "markdown",
      "metadata": {
        "id": "W4piC3oxe9sp",
        "colab_type": "text"
      },
      "source": [
        "Get an average age from the training data\n"
      ]
    },
    {
      "cell_type": "code",
      "metadata": {
        "id": "NNcwuhTgslnt",
        "colab_type": "code",
        "colab": {}
      },
      "source": [
        "firstclass = train_data[train_data.Pclass == 1] # Average age in first Class\n",
        "secondclass = train_data[train_data.Pclass == 2] # Average age in second Class\n",
        "thirdclass = train_data[train_data.Pclass == 3] # Average age in third Class\n",
        " \n",
        "def av_age_fill(df):\n",
        "  for ind,row in df.iterrows():\n",
        "    if pd.isnull(row.Age) :\n",
        "      if row.Pclass == 1:\n",
        "        df.loc[ind,'Age'] = firstclass.Age.mean()\n",
        "      elif row.Pclass == 2:\n",
        "        df.loc[ind,'Age'] = secondclass.Age.mean()\n",
        "      elif row.Pclass == 3:\n",
        "        df.loc[ind,'Age'] = thirdclass.Age.mean()\n",
        "\n",
        "av_age_fill(train_data)\n",
        "# train_data.head(n=20)"
      ],
      "execution_count": null,
      "outputs": []
    },
    {
      "cell_type": "code",
      "metadata": {
        "id": "-fLRzrrhpWMN",
        "colab_type": "code",
        "colab": {
          "base_uri": "https://localhost:8080/",
          "height": 34
        },
        "outputId": "4424ac6d-71ae-49c7-8809-dd59695000ac"
      },
      "source": [
        "train_data['Age'].isnull().sum()"
      ],
      "execution_count": null,
      "outputs": [
        {
          "output_type": "execute_result",
          "data": {
            "text/plain": [
              "0"
            ]
          },
          "metadata": {
            "tags": []
          },
          "execution_count": 495
        }
      ]
    },
    {
      "cell_type": "markdown",
      "metadata": {
        "id": "kL0U171Qnv9r",
        "colab_type": "text"
      },
      "source": [
        "Get an average fare from the training data"
      ]
    },
    {
      "cell_type": "code",
      "metadata": {
        "id": "Oqb1gH2hnOnM",
        "colab_type": "code",
        "colab": {}
      },
      "source": [
        "def av_fare_fill(df):\n",
        "  for ind,row in df.iterrows():\n",
        "    if pd.isnull(row.Fare) :\n",
        "      if row.Pclass == 1:\n",
        "        df.loc[ind,'Fare'] = firstclass.Fare.mean()\n",
        "      elif row.Pclass == 2:\n",
        "        df.loc[ind,'Fare'] = secondclass.Fare.mean()\n",
        "      elif row.Pclass == 3:\n",
        "        df.loc[ind,'Fare'] = thirdclass.Fare.mean()\n",
        "av_fare_fill(train_data) # fill if needed"
      ],
      "execution_count": null,
      "outputs": []
    },
    {
      "cell_type": "code",
      "metadata": {
        "id": "TXjwSimIYOKh",
        "colab_type": "code",
        "colab": {
          "base_uri": "https://localhost:8080/",
          "height": 34
        },
        "outputId": "e8cab9ea-078a-4edf-a014-0dbfc9948e6c"
      },
      "source": [
        "train_data['Fare'].isnull().sum()"
      ],
      "execution_count": null,
      "outputs": [
        {
          "output_type": "execute_result",
          "data": {
            "text/plain": [
              "0"
            ]
          },
          "metadata": {
            "tags": []
          },
          "execution_count": 497
        }
      ]
    },
    {
      "cell_type": "code",
      "metadata": {
        "id": "yz9LHJKhrIDV",
        "colab_type": "code",
        "colab": {
          "base_uri": "https://localhost:8080/",
          "height": 34
        },
        "outputId": "de70c39d-9e8b-4d59-9146-c445a8bfff21"
      },
      "source": [
        "train_data['Survived'].isnull().sum()"
      ],
      "execution_count": null,
      "outputs": [
        {
          "output_type": "execute_result",
          "data": {
            "text/plain": [
              "0"
            ]
          },
          "metadata": {
            "tags": []
          },
          "execution_count": 498
        }
      ]
    },
    {
      "cell_type": "code",
      "metadata": {
        "id": "LLysoyOX5tc8",
        "colab_type": "code",
        "colab": {
          "base_uri": "https://localhost:8080/",
          "height": 67
        },
        "outputId": "59d79eae-8ec8-4a0e-bb08-4ee1f239e7ca"
      },
      "source": [
        "male = train_data[train_data['Sex'] == 'male']\n",
        "female = train_data[train_data['Sex'] == 'female']\n",
        "\n",
        "print('THE AVERAGE AGE FOR FEMALES IS:', female.Age.mean(), '\\n', \"\\nTHE AVERAGE AGE FOR MALES IS:\", male.Age.mean())"
      ],
      "execution_count": null,
      "outputs": [
        {
          "output_type": "stream",
          "text": [
            "THE AVERAGE AGE FOR FEMALES IS: 27.85274603830112 \n",
            " \n",
            "THE AVERAGE AGE FOR MALES IS: 30.07658437106733\n"
          ],
          "name": "stdout"
        }
      ]
    },
    {
      "cell_type": "markdown",
      "metadata": {
        "id": "MtqVSkjCoGZY",
        "colab_type": "text"
      },
      "source": [
        "Lets create a Frame for just the females and explore the data."
      ]
    },
    {
      "cell_type": "code",
      "metadata": {
        "id": "41G6fhi8Grth",
        "colab_type": "code",
        "colab": {}
      },
      "source": [
        "women_df = pd.DataFrame(train_data[train_data.Sex == 'female'])"
      ],
      "execution_count": null,
      "outputs": []
    },
    {
      "cell_type": "code",
      "metadata": {
        "id": "3ZTJQ0g_MaDK",
        "colab_type": "code",
        "colab": {
          "base_uri": "https://localhost:8080/",
          "height": 462
        },
        "outputId": "f051f42d-4ade-4fef-8b91-b4d47e2c8e43"
      },
      "source": [
        "fig, ax = plt.subplots(2, 3, figsize=(25,7))\n",
        "\n",
        "colors_list = ['#ffb800','#00ccff', '#d9004f','#0048BA', '#7009E4', '#f0f0ff', '#efdecd']\n",
        "\n",
        "train_data.groupby('Sex')['Survived'].mean().plot.pie(autopct='%1.1f%%', shadow=True, startangle=90, colors=colors_list, ax=ax[0,0]);\n",
        "ax[0,0].set_title('Survive by Sex');\n",
        "train_data.groupby('Pclass')['Survived'].mean().plot.pie(autopct='%1.1f%%', shadow=True, startangle=90, colors=colors_list, ax=ax[0,1]);\n",
        "ax[0,1].set_title('Survive by class');\n",
        "train_data[train_data.Age > 18]['Survived'].value_counts().plot.pie(autopct='%1.1f%%', shadow=True, startangle=90, colors=colors_list, ax=ax[1,0])\n",
        "ax[1,0].set_title('Passengers over 18 survival\\n (1 = Survived)')\n",
        "\n",
        "train_data.groupby('Survived')['Fare'].mean().plot.pie(autopct='%1.1f%%', shadow=True, startangle=90, colors=colors_list, ax=ax[0,2]);\n",
        "ax[0,2].set_title('Survive by Fare\\n (1 = Survived)');\n",
        "\n",
        "women_df[women_df.Age >= 28]['Survived'].value_counts().plot.pie(autopct='%1.1f%%', shadow=True, startangle=90, colors=colors_list, ax=ax[1,1])\n",
        "women_df[women_df.Age < 28]['Survived'].value_counts().plot.pie(autopct='%1.1f%%', shadow=True, startangle=90, colors=colors_list, ax=ax[1,2])\n",
        "ax[1,1].set_title('81% of women 30 and over survived\\n (1 = Survived)')\n",
        "ax[1,2].set_title('69% of women under 30 survived\\n (1 = Survived)')\n",
        "\n",
        "plt.suptitle('Older females in Class 1 who paid the most were most likely to survive')\n",
        "plt.show()"
      ],
      "execution_count": null,
      "outputs": [
        {
          "output_type": "display_data",
          "data": {
            "image/png": "[encoded data removed]",
            "text/plain": [
              "<Figure size 1800x504 with 6 Axes>"
            ]
          },
          "metadata": {
            "tags": []
          }
        }
      ]
    },
    {
      "cell_type": "code",
      "metadata": {
        "id": "di6kdkwlDKpY",
        "colab_type": "code",
        "colab": {
          "base_uri": "https://localhost:8080/",
          "height": 34
        },
        "outputId": "0dc37f69-4ea4-4e99-c6ea-b3a93cdd04d5"
      },
      "source": [
        "women = train_data.loc[train_data.Sex == 'female'][\"Survived\"]\n",
        "rate_women = sum(women)/len(women)\n",
        "print(\"% of women who survived:\", rate_women * 100)"
      ],
      "execution_count": null,
      "outputs": [
        {
          "output_type": "stream",
          "text": [
            "% of women who survived: 74.20382165605095\n"
          ],
          "name": "stdout"
        }
      ]
    },
    {
      "cell_type": "code",
      "metadata": {
        "id": "FZk0dm1BJJah",
        "colab_type": "code",
        "colab": {
          "base_uri": "https://localhost:8080/",
          "height": 34
        },
        "outputId": "e558c1a2-370b-431e-ce7b-ca8d656a4778"
      },
      "source": [
        "men = train_data.loc[train_data.Sex == 'male'][\"Survived\"]\n",
        "rate_men = sum(men)/len(men)\n",
        "\n",
        "print(\"% of men who survived:\", rate_men * 100)"
      ],
      "execution_count": null,
      "outputs": [
        {
          "output_type": "stream",
          "text": [
            "% of men who survived: 18.890814558058924\n"
          ],
          "name": "stdout"
        }
      ]
    },
    {
      "cell_type": "code",
      "metadata": {
        "id": "jtvBQ8_6Jyjo",
        "colab_type": "code",
        "colab": {}
      },
      "source": [
        "test_data = pd.read_csv(\"/content/drive/My Drive/data/test_titanic.csv\")"
      ],
      "execution_count": null,
      "outputs": []
    },
    {
      "cell_type": "markdown",
      "metadata": {
        "id": "OX3IJhkEyEdM",
        "colab_type": "text"
      },
      "source": [
        "Reuse age fill function for test data."
      ]
    },
    {
      "cell_type": "code",
      "metadata": {
        "id": "IXWLOLzBjdHW",
        "colab_type": "code",
        "colab": {}
      },
      "source": [
        "# test_data.reset_index(drop=True)\n",
        "av_age_fill(test_data)"
      ],
      "execution_count": null,
      "outputs": []
    },
    {
      "cell_type": "markdown",
      "metadata": {
        "id": "j1ZDlpGiyNJS",
        "colab_type": "text"
      },
      "source": [
        "Reuse fare fill function for test data."
      ]
    },
    {
      "cell_type": "code",
      "metadata": {
        "id": "pKboexljTaeY",
        "colab_type": "code",
        "colab": {}
      },
      "source": [
        "av_fare_fill(test_data)\n",
        "# test_data['Fare'] = test_data['Fare'].fillna(value=average_fare)"
      ],
      "execution_count": null,
      "outputs": []
    },
    {
      "cell_type": "code",
      "metadata": {
        "id": "Khp1XMHdWfIx",
        "colab_type": "code",
        "colab": {
          "base_uri": "https://localhost:8080/",
          "height": 34
        },
        "outputId": "8f8f26a6-647d-4fc0-c176-f63edc281f72"
      },
      "source": [
        "test_data['Fare'].isnull().sum()"
      ],
      "execution_count": null,
      "outputs": [
        {
          "output_type": "execute_result",
          "data": {
            "text/plain": [
              "0"
            ]
          },
          "metadata": {
            "tags": []
          },
          "execution_count": 530
        }
      ]
    },
    {
      "cell_type": "markdown",
      "metadata": {
        "id": "waAzTMBKyaY6",
        "colab_type": "text"
      },
      "source": [
        "## Tests run in tutorial ##"
      ]
    },
    {
      "cell_type": "code",
      "metadata": {
        "id": "ZfE_dHq0JTcA",
        "colab_type": "code",
        "colab": {
          "base_uri": "https://localhost:8080/",
          "height": 34
        },
        "outputId": "d231c107-1b3e-44fb-8602-9e38b92a4b69"
      },
      "source": [
        "from sklearn.ensemble import RandomForestClassifier\n",
        "\n",
        "y = train_data[\"Survived\"]\n",
        "actual = y.head(n=len(test_data))\n",
        "\n",
        "features = [\"Pclass\", \"Sex\", \"SibSp\", \"Parch\"]\n",
        "X = pd.get_dummies(train_data[features])\n",
        "X_test = pd.get_dummies(test_data[features])\n",
        "\n",
        "model = RandomForestClassifier(n_estimators=100, max_depth=5, random_state=1)\n",
        "model.fit(X, y)\n",
        "predictions = model.predict(X_test)\n",
        " \n",
        "output = pd.DataFrame({'PassengerId': test_data.PassengerId, 'Survived': predictions})\n",
        "output.to_csv('/content/drive/My Drive/data/titanic_submission.csv', index=False)\n",
        "print(\"Your submission was successfully saved!\")"
      ],
      "execution_count": null,
      "outputs": [
        {
          "output_type": "stream",
          "text": [
            "Your submission was successfully saved!\n"
          ],
          "name": "stdout"
        }
      ]
    },
    {
      "cell_type": "code",
      "metadata": {
        "id": "eXjfHTfgKouv",
        "colab_type": "code",
        "colab": {
          "base_uri": "https://localhost:8080/",
          "height": 34
        },
        "outputId": "cfd366f6-691f-4929-b409-192952757b47"
      },
      "source": [
        "print(model.score(X,y)) # I can do better"
      ],
      "execution_count": null,
      "outputs": [
        {
          "output_type": "stream",
          "text": [
            "0.8159371492704826\n"
          ],
          "name": "stdout"
        }
      ]
    },
    {
      "cell_type": "markdown",
      "metadata": {
        "id": "UVFkTvUAykUV",
        "colab_type": "text"
      },
      "source": [
        "## Test run after I made improvements ##"
      ]
    },
    {
      "cell_type": "markdown",
      "metadata": {
        "id": "VQVhzwSlYc9r",
        "colab_type": "text"
      },
      "source": [
        "It looks like the coorelation between fare and survival as well as age and survival are stronger than siblings and parents so I'll change the features. Also, since this sample is so small, I don' have to limit the max depth. "
      ]
    },
    {
      "cell_type": "code",
      "metadata": {
        "id": "h7wpnmFr4o3n",
        "colab_type": "code",
        "colab": {}
      },
      "source": [
        "from sklearn.ensemble import RandomForestClassifier\n",
        "\n",
        "y = train_data[\"Survived\"]\n",
        "actual = y.head(n=len(test_data))\n",
        "\n",
        "\n",
        "features = [\"Pclass\", \"Sex\", \"Fare\", \"Age\"]\n",
        "X = pd.get_dummies(train_data[features])\n",
        "X_test = pd.get_dummies(test_data[features])\n",
        "\n",
        "model = RandomForestClassifier(n_estimators=200, random_state=1)\n",
        "model.fit(X, y)\n",
        "predictions = model.predict(X_test)\n",
        "\n",
        "# output = pd.DataFrame({'PassengerId': test_data.PassengerId, 'Survived': predictions})\n",
        "# output.to_csv('/content/drive/My Drive/data/titanic_submission.csv', index=False)\n",
        "# print(\"Your submission was successfully saved!\")"
      ],
      "execution_count": null,
      "outputs": []
    },
    {
      "cell_type": "code",
      "metadata": {
        "id": "8wjwSoqw4rR2",
        "colab_type": "code",
        "colab": {
          "base_uri": "https://localhost:8080/",
          "height": 34
        },
        "outputId": "833879ec-1092-47de-c54e-760560b1df7d"
      },
      "source": [
        "print('As expected from the features, my model can correctly predict whether a passenger will survive', str(model.score(X,y).round(4) * 100)+'%', 'of the time.') "
      ],
      "execution_count": null,
      "outputs": [
        {
          "output_type": "stream",
          "text": [
            "As expected from the features, my model can correctly predict whether a passenger will survive 97.98% of the time.\n"
          ],
          "name": "stdout"
        }
      ]
    },
    {
      "cell_type": "markdown",
      "metadata": {
        "id": "amq_b9T5ak5T",
        "colab_type": "text"
      },
      "source": [
        "These things seem to always hold true, Money, Age, and Class are good indicators for survival."
      ]
    }
  ]
}